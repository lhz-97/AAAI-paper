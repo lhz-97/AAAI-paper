{
 "cells": [
  {
   "cell_type": "code",
   "execution_count": 1,
   "id": "0416d356",
   "metadata": {},
   "outputs": [],
   "source": [
    "import pandas as pd\n",
    "import numpy as np"
   ]
  },
  {
   "cell_type": "code",
   "execution_count": 24,
   "id": "9bdec914",
   "metadata": {},
   "outputs": [],
   "source": [
    "data = pd.read_csv('ml-1m.inter',sep = '\\t')"
   ]
  },
  {
   "cell_type": "code",
   "execution_count": 26,
   "id": "7141fdd0",
   "metadata": {},
   "outputs": [
    {
     "data": {
      "text/plain": [
       "575281"
      ]
     },
     "execution_count": 26,
     "metadata": {},
     "output_type": "execute_result"
    }
   ],
   "source": [
    "sum(data['rating:float']>3)"
   ]
  },
  {
   "cell_type": "code",
   "execution_count": null,
   "id": "5d1620bf",
   "metadata": {},
   "outputs": [],
   "source": []
  },
  {
   "cell_type": "code",
   "execution_count": null,
   "id": "af5f7994",
   "metadata": {},
   "outputs": [],
   "source": []
  },
  {
   "cell_type": "code",
   "execution_count": 3,
   "id": "93dfa4be",
   "metadata": {},
   "outputs": [],
   "source": [
    "data2 = data.groupby('user_id:token')"
   ]
  },
  {
   "cell_type": "code",
   "execution_count": null,
   "id": "8f0de4cf",
   "metadata": {},
   "outputs": [],
   "source": []
  },
  {
   "cell_type": "code",
   "execution_count": null,
   "id": "b3aa2f5c",
   "metadata": {},
   "outputs": [],
   "source": []
  },
  {
   "cell_type": "code",
   "execution_count": null,
   "id": "94189e93",
   "metadata": {},
   "outputs": [],
   "source": []
  },
  {
   "cell_type": "code",
   "execution_count": 4,
   "id": "533c8d0f",
   "metadata": {},
   "outputs": [
    {
     "data": {
      "text/plain": [
       "3598"
      ]
     },
     "execution_count": 4,
     "metadata": {},
     "output_type": "execute_result"
    }
   ],
   "source": [
    "sum(data2.size()>70)"
   ]
  },
  {
   "cell_type": "code",
   "execution_count": 22,
   "id": "d19d8029",
   "metadata": {},
   "outputs": [],
   "source": [
    "data2 = data.groupby('user_id:token')\n",
    "old_user_dict = data2.size().to_dict()\n",
    "old_user = np.array([False]*6041)\n",
    "for k,v in old_user_dict.items():\n",
    "    if v > 200:\n",
    "        old_user[k]=True\n",
    "\n",
    "data3 = data.groupby('item_id:token')\n",
    "# newd 没有了\n",
    "olditem = np.array([False]*3953)\n",
    "for k,v in data3.size().to_dict().items():\n",
    "    if v > 200:\n",
    "        olditem[k]=True\n",
    "\n",
    "\n",
    "d = data.to_numpy()\n",
    "newdata = old_user[d[:,0]] & olditem[d[:,1]]\n"
   ]
  },
  {
   "cell_type": "code",
   "execution_count": 23,
   "id": "beba68f6",
   "metadata": {},
   "outputs": [
    {
     "data": {
      "text/plain": [
       "545014"
      ]
     },
     "execution_count": 23,
     "metadata": {},
     "output_type": "execute_result"
    }
   ],
   "source": [
    "sum(newdata)"
   ]
  },
  {
   "cell_type": "code",
   "execution_count": 16,
   "id": "d40239b1",
   "metadata": {},
   "outputs": [
    {
     "data": {
      "text/plain": [
       "790782"
      ]
     },
     "execution_count": 16,
     "metadata": {},
     "output_type": "execute_result"
    }
   ],
   "source": [
    "sum(newdata)"
   ]
  },
  {
   "cell_type": "code",
   "execution_count": 18,
   "id": "b53cea9f",
   "metadata": {},
   "outputs": [
    {
     "data": {
      "text/plain": [
       "894774"
      ]
     },
     "execution_count": 18,
     "metadata": {},
     "output_type": "execute_result"
    }
   ],
   "source": [
    "sum(newdata)"
   ]
  },
  {
   "cell_type": "code",
   "execution_count": 6,
   "id": "cfeddd71",
   "metadata": {},
   "outputs": [],
   "source": [
    "data[newdata].to_csv('ml-1m.newinter',sep='\\t',index=None)"
   ]
  },
  {
   "cell_type": "code",
   "execution_count": 7,
   "id": "9e5d0942",
   "metadata": {},
   "outputs": [],
   "source": [
    "new_data = data[newdata].sample(frac=1)"
   ]
  },
  {
   "cell_type": "code",
   "execution_count": 8,
   "id": "55399f28",
   "metadata": {},
   "outputs": [],
   "source": [
    "new_data[:700000].to_csv('ml-1m_train.newinter',sep='\\t',index=None)"
   ]
  },
  {
   "cell_type": "code",
   "execution_count": 9,
   "id": "77b78d41",
   "metadata": {},
   "outputs": [],
   "source": [
    "new_data[700000:].to_csv('ml-1m_valid.newinter',sep='\\t',index=None)"
   ]
  },
  {
   "cell_type": "code",
   "execution_count": 10,
   "id": "5d343810",
   "metadata": {},
   "outputs": [
    {
     "data": {
      "text/plain": [
       "array([False, False, False, ..., False, False, False])"
      ]
     },
     "execution_count": 10,
     "metadata": {},
     "output_type": "execute_result"
    }
   ],
   "source": [
    "~newdata"
   ]
  },
  {
   "cell_type": "code",
   "execution_count": 11,
   "id": "40f0d770",
   "metadata": {},
   "outputs": [],
   "source": [
    "n_data = data[~newdata].sample(frac=1)"
   ]
  },
  {
   "cell_type": "code",
   "execution_count": 12,
   "id": "f049d2e3",
   "metadata": {},
   "outputs": [],
   "source": [
    "n_data.to_csv('ml-1m_test.newinter',sep='\\t',index=None)"
   ]
  },
  {
   "cell_type": "code",
   "execution_count": 13,
   "id": "ff837daa",
   "metadata": {},
   "outputs": [
    {
     "data": {
      "text/html": [
       "<div>\n",
       "<style scoped>\n",
       "    .dataframe tbody tr th:only-of-type {\n",
       "        vertical-align: middle;\n",
       "    }\n",
       "\n",
       "    .dataframe tbody tr th {\n",
       "        vertical-align: top;\n",
       "    }\n",
       "\n",
       "    .dataframe thead th {\n",
       "        text-align: right;\n",
       "    }\n",
       "</style>\n",
       "<table border=\"1\" class=\"dataframe\">\n",
       "  <thead>\n",
       "    <tr style=\"text-align: right;\">\n",
       "      <th></th>\n",
       "      <th>user_id:token</th>\n",
       "      <th>item_id:token</th>\n",
       "      <th>rating:float</th>\n",
       "      <th>timestamp:float</th>\n",
       "    </tr>\n",
       "  </thead>\n",
       "  <tbody>\n",
       "    <tr>\n",
       "      <th>516199</th>\n",
       "      <td>3188</td>\n",
       "      <td>3408</td>\n",
       "      <td>4</td>\n",
       "      <td>968673554</td>\n",
       "    </tr>\n",
       "    <tr>\n",
       "      <th>735762</th>\n",
       "      <td>4393</td>\n",
       "      <td>2858</td>\n",
       "      <td>5</td>\n",
       "      <td>965159095</td>\n",
       "    </tr>\n",
       "    <tr>\n",
       "      <th>467568</th>\n",
       "      <td>2881</td>\n",
       "      <td>2931</td>\n",
       "      <td>4</td>\n",
       "      <td>972260187</td>\n",
       "    </tr>\n",
       "    <tr>\n",
       "      <th>829495</th>\n",
       "      <td>4980</td>\n",
       "      <td>811</td>\n",
       "      <td>4</td>\n",
       "      <td>963980798</td>\n",
       "    </tr>\n",
       "    <tr>\n",
       "      <th>568505</th>\n",
       "      <td>3488</td>\n",
       "      <td>1391</td>\n",
       "      <td>1</td>\n",
       "      <td>967051033</td>\n",
       "    </tr>\n",
       "    <tr>\n",
       "      <th>...</th>\n",
       "      <td>...</td>\n",
       "      <td>...</td>\n",
       "      <td>...</td>\n",
       "      <td>...</td>\n",
       "    </tr>\n",
       "    <tr>\n",
       "      <th>266975</th>\n",
       "      <td>1622</td>\n",
       "      <td>1961</td>\n",
       "      <td>4</td>\n",
       "      <td>974725897</td>\n",
       "    </tr>\n",
       "    <tr>\n",
       "      <th>297481</th>\n",
       "      <td>1764</td>\n",
       "      <td>1168</td>\n",
       "      <td>4</td>\n",
       "      <td>974702365</td>\n",
       "    </tr>\n",
       "    <tr>\n",
       "      <th>531582</th>\n",
       "      <td>3282</td>\n",
       "      <td>1193</td>\n",
       "      <td>5</td>\n",
       "      <td>968161096</td>\n",
       "    </tr>\n",
       "    <tr>\n",
       "      <th>866832</th>\n",
       "      <td>5228</td>\n",
       "      <td>356</td>\n",
       "      <td>5</td>\n",
       "      <td>961472051</td>\n",
       "    </tr>\n",
       "    <tr>\n",
       "      <th>639759</th>\n",
       "      <td>3846</td>\n",
       "      <td>1144</td>\n",
       "      <td>3</td>\n",
       "      <td>965885449</td>\n",
       "    </tr>\n",
       "  </tbody>\n",
       "</table>\n",
       "<p>29994 rows × 4 columns</p>\n",
       "</div>"
      ],
      "text/plain": [
       "        user_id:token  item_id:token  rating:float  timestamp:float\n",
       "516199           3188           3408             4        968673554\n",
       "735762           4393           2858             5        965159095\n",
       "467568           2881           2931             4        972260187\n",
       "829495           4980            811             4        963980798\n",
       "568505           3488           1391             1        967051033\n",
       "...               ...            ...           ...              ...\n",
       "266975           1622           1961             4        974725897\n",
       "297481           1764           1168             4        974702365\n",
       "531582           3282           1193             5        968161096\n",
       "866832           5228            356             5        961472051\n",
       "639759           3846           1144             3        965885449\n",
       "\n",
       "[29994 rows x 4 columns]"
      ]
     },
     "execution_count": 13,
     "metadata": {},
     "output_type": "execute_result"
    }
   ],
   "source": [
    "n_data"
   ]
  },
  {
   "cell_type": "code",
   "execution_count": null,
   "id": "b1f545a8",
   "metadata": {},
   "outputs": [],
   "source": []
  }
 ],
 "metadata": {
  "kernelspec": {
   "display_name": "torch",
   "language": "python",
   "name": "sklearn"
  },
  "language_info": {
   "codemirror_mode": {
    "name": "ipython",
    "version": 3
   },
   "file_extension": ".py",
   "mimetype": "text/x-python",
   "name": "python",
   "nbconvert_exporter": "python",
   "pygments_lexer": "ipython3",
   "version": "3.8.10"
  }
 },
 "nbformat": 4,
 "nbformat_minor": 5
}
